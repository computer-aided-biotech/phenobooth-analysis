{
 "cells": [
  {
   "cell_type": "markdown",
   "metadata": {},
   "source": [
    "# Over-Representation Analysis\n",
    "\n",
    "Notebook for performing an over-representation analysis on the top and bottom strains, in terms of redness and normalized redness.\n",
    "\n",
    "2020-02-26\n",
    "\n",
    "## Initial boilerplate"
   ]
  },
  {
   "cell_type": "code",
   "execution_count": 1,
   "metadata": {},
   "outputs": [
    {
     "name": "stdout",
     "output_type": "stream",
     "text": [
      "Standard variables loaded, you are good to go!\n"
     ]
    }
   ],
   "source": [
    "import os\n",
    "from dotenv import load_dotenv, find_dotenv\n",
    "from os.path import join, dirname, basename, exists, isdir\n",
    "\n",
    "### Load environmental variables from the project root directory ###\n",
    "# find .env automagically by walking up directories until it's found\n",
    "dotenv_path = find_dotenv()\n",
    "\n",
    "# load up the entries as environment variables\n",
    "load_dotenv(dotenv_path)\n",
    "\n",
    "# now you can get the variables using their names\n",
    "\n",
    "# Check whether a network drive has been specified\n",
    "DATABASE = os.environ.get(\"NETWORK_URL\")\n",
    "if DATABASE == 'None':\n",
    "    pass\n",
    "else:\n",
    "    pass\n",
    "    #mount network drive here\n",
    "\n",
    "# set up directory paths\n",
    "CURRENT_DIR = os.getcwd()\n",
    "PROJ = dirname(dotenv_path) # project root directory\n",
    "\n",
    "DATA = join(PROJ, 'data') #data directory\n",
    "RAW_EXTERNAL = join(DATA, 'raw_external') # external data raw directory\n",
    "RAW_INTERNAL = join(DATA, 'raw_internal') # internal data raw directory\n",
    "INTERMEDIATE = join(DATA, 'intermediate') # intermediate data directory\n",
    "FINAL = join(DATA, 'final') # final data directory\n",
    "\n",
    "RESULTS = join(PROJ, 'results') # output directory\n",
    "FIGURES = join(RESULTS, 'figures') # figure output directory\n",
    "PICTURES = join(RESULTS, 'pictures') # picture output directory\n",
    "\n",
    "\n",
    "# make folders specific for certain data\n",
    "folder_name = ''\n",
    "if folder_name != '':\n",
    "    #make folders if they don't exist\n",
    "    if not exists(join(RAW_EXTERNAL, folder_name)):\n",
    "        os.makedirs(join(RAW_EXTERNAL, folder_name))\n",
    "\n",
    "    if not exists(join(INTERMEDIATE, folder_name)):\n",
    "        os.makedirs(join(INTERMEDIATE, folder_name))\n",
    "\n",
    "    if not exists(join(FINAL, folder_name)):\n",
    "        os.makedirs(join(FINAL, folder_name))\n",
    "\n",
    "print('Standard variables loaded, you are good to go!')"
   ]
  },
  {
   "cell_type": "markdown",
   "metadata": {},
   "source": [
    "## 1. Load data\n",
    "\n",
    "We will use:\n",
    "* 4 lists (generated manually):\n",
    "  * Top 500 genes in terms of redness, with size $\\geq$ 180 and count > 1.\n",
    "  * Top 500 genes in terms of normalized redness, with size $\\geq$ 260.\n",
    "  * Bottom 500 genes in terms of redness, with size $\\geq$ 180 and count > 1.\n",
    "  * Bottom 500 genes in terms of normalized redness, with size $\\geq$ 180 and count > 1.\n",
    "* The lookup table connecting positions in the 384-well plate to gene ids, as it has all GO-terms associated to each gene ID."
   ]
  },
  {
   "cell_type": "code",
   "execution_count": 2,
   "metadata": {},
   "outputs": [
    {
     "name": "stdout",
     "output_type": "stream",
     "text": [
      "    top_redness top_norm_redness bottom_redness bottom_norm_redness\n",
      "0          CSE2             GAS5          IBA57                OPY1\n",
      "1          MLC2             YOR1           OPY1                RIM8\n",
      "2          YOR1          YJL175W        YCR090C               IBA57\n",
      "3          NTA1             SKY1           HTD2                BUD8\n",
      "4       YOL153C          YIL096C           DIA3               RPL9A\n",
      "..          ...              ...            ...                 ...\n",
      "495        PTK1             TRP1          SPO74                RTC2\n",
      "496     YBR287W          YPR071W        YDL211C                IPK1\n",
      "497        PLB2             BPT1           YCH1             YMR160W\n",
      "498        TRP1             NEJ1           YSP2                STP2\n",
      "499     YKR070W             REX3        YIL012W             YGL152C\n",
      "\n",
      "[500 rows x 4 columns]\n"
     ]
    }
   ],
   "source": [
    "import pandas as pd\n",
    "\n",
    "data = pd.read_csv(join(INTERMEDIATE,\"top_and_bottom_500.csv\"))\n",
    "print(data)"
   ]
  },
  {
   "cell_type": "code",
   "execution_count": 3,
   "metadata": {},
   "outputs": [
    {
     "name": "stdout",
     "output_type": "stream",
     "text": [
      "            ORF       Gene                                         Decription  \\\n",
      "0       YLL040C      VPS13  Protein of unknown function; heterooligomeric ...   \n",
      "1       YAL068C       PAU8  Protein of unknown function, member of the ser...   \n",
      "2       YAL067C       SEO1  Putative permease, member of the allantoate tr...   \n",
      "3       YLL041C       SDH2  Iron-sulfur protein subunit of succinate dehyd...   \n",
      "4       YAL066W    YAL066W  Dubious open reading frame unlikely to encode ...   \n",
      "...         ...        ...                                                ...   \n",
      "4842    YER122C       GLO3  ADP-ribosylation factor GTPase activating prot...   \n",
      "4843    YJL075C      APQ13  Dubious open reading frame, unlikely to encode...   \n",
      "4844    YBR035C       PDX3  Pyridoxine (pyridoxamine) phosphate oxidase, h...   \n",
      "4845    YPR072W       NOT5  Subunit of the CCR4-NOT complex, which is a gl...   \n",
      "4846  YOR008C-A  YOR008C-A  Putative protein of unknown function, includes...   \n",
      "\n",
      "                                  GO Biological Process  \\\n",
      "0     transport, sporulation resulting in formation ...   \n",
      "1     sporulation resulting in formation of a cellul...   \n",
      "2                                             transport   \n",
      "3     cofactor metabolic process, generation of prec...   \n",
      "4                                    biological_process   \n",
      "...                                                 ...   \n",
      "4842  transport, vesicle organization, vesicle-media...   \n",
      "4843                                 biological_process   \n",
      "4844                   cellular lipid metabolic process   \n",
      "4845  transcription, protein modification process, R...   \n",
      "4846                                 biological_process   \n",
      "\n",
      "          GO Molecular Function  \\\n",
      "0            molecular_function   \n",
      "1            molecular_function   \n",
      "2          transporter activity   \n",
      "3       oxidoreductase activity   \n",
      "4            molecular_function   \n",
      "...                         ...   \n",
      "4842  enzyme regulator activity   \n",
      "4843         molecular_function   \n",
      "4844    oxidoreductase activity   \n",
      "4845            ligase activity   \n",
      "4846         molecular_function   \n",
      "\n",
      "                                  GO Cellular Component  \n",
      "0                    mitochondrion, membrane, cytoplasm  \n",
      "1                                    cellular_component  \n",
      "2                                              membrane  \n",
      "3     mitochondrion, membrane, mitochondrial envelop...  \n",
      "4                                    cellular_component  \n",
      "...                                                 ...  \n",
      "4842  endomembrane system, cytoplasmic membrane-boun...  \n",
      "4843                                 cellular_component  \n",
      "4844                                 cellular_component  \n",
      "4845                                 nucleus, cytoplasm  \n",
      "4846                                 cellular_component  \n",
      "\n",
      "[4847 rows x 6 columns]\n"
     ]
    }
   ],
   "source": [
    "gene_ids = pd.read_csv(join(RAW_EXTERNAL,\"geneIDs.txt\"), sep=\"\\t\")\n",
    "gene_ids = gene_ids[gene_ids[\"Gene\"] != \"Blank\"]  # filter out blank data\n",
    "gene_ids = gene_ids.drop(columns=[\"Plate #\", \"Row\", \"Column\", \"96-position\"])  # remove unused columns\n",
    "gene_ids.index = range(0,len(gene_ids.index))  # re-index for consistency later on\n",
    "print(gene_ids)"
   ]
  },
  {
   "cell_type": "markdown",
   "metadata": {},
   "source": [
    "## 2. GO terms\n",
    "\n",
    "We will first collect all GO terms in a single list, to be able to iterate through later."
   ]
  },
  {
   "cell_type": "code",
   "execution_count": 4,
   "metadata": {},
   "outputs": [
    {
     "name": "stdout",
     "output_type": "stream",
     "text": [
      "['-', 'DNA metabolic process', 'RNA metabolic process', 'biological_process', 'cell budding', 'cell cycle', 'cellular amino acid and derivative metabolic process', 'cellular aromatic compound metabolic process', 'cellular carbohydrate metabolic process', 'cellular component morphogenesis', 'cellular homeostasis', 'cellular lipid metabolic process', 'cellular membrane organization', 'cellular protein catabolic process', 'cellular respiration', 'chromosome organization', 'chromosome segregation', 'cofactor metabolic process', 'conjugation', 'cytokinesis', 'cytoskeleton organization', 'fungal-type cell wall organization', 'generation of precursor metabolites and energy', 'heterocycle metabolic process', 'meiosis', 'mitochondrion organization', 'nucleus organization', 'other', 'peroxisome organization', 'protein complex biogenesis', 'protein folding', 'protein modification process', 'pseudohyphal growth', 'response to chemical stimulus', 'response to stress', 'ribosome biogenesis', 'signal transduction', 'sporulation resulting in formation of a cellular spore', 'transcription', 'translation', 'transport', 'transposition', 'vacuole organization', 'vesicle organization', 'vesicle-mediated transport', 'vitamin metabolic process']\n"
     ]
    }
   ],
   "source": [
    "GOterms = []\n",
    "for (idx, row) in gene_ids.iterrows():\n",
    "    row[\"GO Biological Process\"] = row[\"GO Biological Process\"].split(\", \")\n",
    "    GOterms.extend(row[\"GO Biological Process\"])\n",
    "GOterms = list(set(GOterms))\n",
    "GOterms.sort()\n",
    "print(GOterms)\n",
    "GOterms.remove('-')"
   ]
  },
  {
   "cell_type": "markdown",
   "metadata": {},
   "source": [
    "## 3. Over-Representation Analysis\n",
    "\n",
    "We need a function for the over-representation analysis. For each GO term the Fisher matrix is constructed as:\n",
    "\n",
    "|   | Selected in group | Not selected |\n",
    "|:-:|:-----------------:|:------------:|\n",
    "| With GO term | F[0][0] | F[0][1] |\n",
    "| Without GO term | F[1][0] | F[1][1] |\n",
    "\n",
    "And then the alternative hypothesis is that there is a higher percentage of genes in the selected group with the GO term Vs without the GO term."
   ]
  },
  {
   "cell_type": "code",
   "execution_count": 5,
   "metadata": {},
   "outputs": [],
   "source": [
    "from fisher import pvalue\n",
    "\n",
    "# over-representation function:\n",
    "def over_rep(data, group_name, gene_ids, GOterms):\n",
    "    pvalues = pd.DataFrame()\n",
    "    group = list(data[group_name])\n",
    "    for GOterm in GOterms:\n",
    "        F = [[0, 0], [0, 0]]\n",
    "        for (idx, row) in gene_ids.iterrows():\n",
    "            i = 0 if GOterm in row[\"GO Biological Process\"] else 1\n",
    "            j = 0 if row[\"Gene\"] in group else 1\n",
    "            F[i][j] += 1\n",
    "        pval = pvalue(F[0][0], F[0][1], F[1][0], F[1][1]).right_tail\n",
    "        new_row = pd.DataFrame(data={\"genes.selected\":F[0][0], \"genes.total\":F[0][0] + F[0][1], \"p.value\": pval}, index=[GOterm])\n",
    "        pvalues = pvalues.append(new_row)\n",
    "    print(pvalues[pvalues[\"p.value\"] < 0.05])\n",
    "    return pvalues"
   ]
  },
  {
   "cell_type": "markdown",
   "metadata": {},
   "source": [
    "Now we can call the function for all 4 groups:"
   ]
  },
  {
   "cell_type": "code",
   "execution_count": 6,
   "metadata": {},
   "outputs": [
    {
     "name": "stdout",
     "output_type": "stream",
     "text": [
      "Empty DataFrame\n",
      "Columns: [genes.selected, genes.total, p.value]\n",
      "Index: []\n"
     ]
    }
   ],
   "source": [
    "p_values_top_redness = over_rep(data, \"top_redness\", gene_ids, GOterms)"
   ]
  },
  {
   "cell_type": "code",
   "execution_count": 7,
   "metadata": {},
   "outputs": [
    {
     "name": "stdout",
     "output_type": "stream",
     "text": [
      "                    genes.selected  genes.total   p.value\n",
      "biological_process             173         1405  0.004948\n"
     ]
    }
   ],
   "source": [
    "p_values_top_norm_redness = over_rep(data, \"top_norm_redness\", gene_ids, GOterms)"
   ]
  },
  {
   "cell_type": "code",
   "execution_count": 8,
   "metadata": {},
   "outputs": [
    {
     "name": "stdout",
     "output_type": "stream",
     "text": [
      "                              genes.selected  genes.total   p.value\n",
      "protein modification process              56          410  0.026396\n"
     ]
    }
   ],
   "source": [
    "p_values_bottom_redness = over_rep(data, \"bottom_redness\", gene_ids, GOterms)"
   ]
  },
  {
   "cell_type": "code",
   "execution_count": 9,
   "metadata": {},
   "outputs": [
    {
     "name": "stdout",
     "output_type": "stream",
     "text": [
      "                           genes.selected  genes.total   p.value\n",
      "vitamin metabolic process               9           46  0.049671\n"
     ]
    }
   ],
   "source": [
    "p_values_bottom_norm_redness = over_rep(data, \"bottom_norm_redness\", gene_ids, GOterms)"
   ]
  },
  {
   "cell_type": "markdown",
   "metadata": {},
   "source": [
    "Results don't look very promising... most likely because there are not many GO terms included in the original file.\n",
    "\n",
    "## 4. Using GOATOOLS\n",
    "\n",
    "Let's try using more GO terms, via GOATOOLS. For that, we first need Entrez IDs for all genes both from the total list of _S. cerevisiae_ genes and from the 4 selected groups. We can get them using the `mygene` package ([Wu et al. 2014](https://www.biorxiv.org/content/10.1101/009332v1)), querying the original ORFs:"
   ]
  },
  {
   "cell_type": "code",
   "execution_count": 10,
   "metadata": {},
   "outputs": [
    {
     "name": "stdout",
     "output_type": "stream",
     "text": [
      "querying 1-1000...done.\n",
      "querying 1001-2000...done.\n",
      "querying 2001-3000...done.\n",
      "querying 3001-4000...done.\n",
      "querying 4001-4847...done.\n",
      "Finished.\n",
      "45 input query terms found dup hits:\n",
      "\t[('YML086C', 2), ('YMR169C', 2), ('YMR174C', 2), ('YMR175W', 2), ('YML035C', 2), ('YMR191W', 2), ('Y\n",
      "411 input query terms found no hit:\n",
      "\t['YAL066W', 'YLL047W', 'YLR123C', 'YLR124W', 'YML089C', 'YAL045C', 'YAL043C-a', 'YML084W', 'YMR151W'\n",
      "Pass \"returnall=True\" to return complete lists of duplicate or missing query terms.\n"
     ]
    },
    {
     "data": {
      "text/plain": [
       "[{'query': 'YLL040C',\n",
       "  '_id': '850619',\n",
       "  '_score': 13.253784,\n",
       "  'entrezgene': '850619'},\n",
       " {'query': 'YAL068C',\n",
       "  '_id': '851229',\n",
       "  '_score': 13.235436,\n",
       "  'entrezgene': '851229'},\n",
       " {'query': 'YAL067C',\n",
       "  '_id': '851230',\n",
       "  '_score': 13.2391815,\n",
       "  'entrezgene': '851230'},\n",
       " {'query': 'YLL041C',\n",
       "  '_id': '850685',\n",
       "  '_score': 13.242646,\n",
       "  'entrezgene': '850685'},\n",
       " {'query': 'YAL066W', 'notfound': True},\n",
       " {'query': 'YLL042C',\n",
       "  '_id': '850684',\n",
       "  '_score': 13.239901,\n",
       "  'entrezgene': '850684'},\n",
       " {'query': 'YAL065C',\n",
       "  '_id': '851232',\n",
       "  '_score': 13.75529,\n",
       "  'entrezgene': '851232'},\n",
       " {'query': 'YLL043W',\n",
       "  '_id': '850683',\n",
       "  '_score': 13.247383,\n",
       "  'entrezgene': '850683'},\n",
       " {'query': 'YAL062W',\n",
       "  '_id': '851237',\n",
       "  '_score': 13.246465,\n",
       "  'entrezgene': '851237'},\n",
       " {'query': 'YLL045C',\n",
       "  '_id': '850682',\n",
       "  '_score': 13.256932,\n",
       "  'entrezgene': '850682'}]"
      ]
     },
     "execution_count": 10,
     "metadata": {},
     "output_type": "execute_result"
    }
   ],
   "source": [
    "import mygene\n",
    "mg = mygene.MyGeneInfo()\n",
    "geneORFs = list(gene_ids[\"ORF\"])\n",
    "entrezIDs = mg.querymany(geneORFs, scopes='locus_tag', fields='entrezgene', species=559292)  # S. cerevisiae S288C\n",
    "entrezIDs[:10]"
   ]
  },
  {
   "cell_type": "markdown",
   "metadata": {},
   "source": [
    "Note that several entries are either duplicated or don't match to anything. Also, `entrezIDs` is in dictionary format, but we need it as a list of just `entrezgene` ids. So we will create a list with just that (that we will call `population`) and translate all genes in the selected groups:"
   ]
  },
  {
   "cell_type": "code",
   "execution_count": 11,
   "metadata": {},
   "outputs": [
    {
     "name": "stdout",
     "output_type": "stream",
     "text": [
      "4436\n"
     ]
    },
    {
     "data": {
      "text/html": [
       "<div>\n",
       "<style scoped>\n",
       "    .dataframe tbody tr th:only-of-type {\n",
       "        vertical-align: middle;\n",
       "    }\n",
       "\n",
       "    .dataframe tbody tr th {\n",
       "        vertical-align: top;\n",
       "    }\n",
       "\n",
       "    .dataframe thead th {\n",
       "        text-align: right;\n",
       "    }\n",
       "</style>\n",
       "<table border=\"1\" class=\"dataframe\">\n",
       "  <thead>\n",
       "    <tr style=\"text-align: right;\">\n",
       "      <th></th>\n",
       "      <th>top_redness</th>\n",
       "      <th>top_norm_redness</th>\n",
       "      <th>bottom_redness</th>\n",
       "      <th>bottom_norm_redness</th>\n",
       "    </tr>\n",
       "  </thead>\n",
       "  <tbody>\n",
       "    <tr>\n",
       "      <th>0</th>\n",
       "      <td>855744</td>\n",
       "      <td>854127</td>\n",
       "      <td>853586</td>\n",
       "      <td>852426</td>\n",
       "    </tr>\n",
       "    <tr>\n",
       "      <th>1</th>\n",
       "      <td>856318</td>\n",
       "      <td>853198</td>\n",
       "      <td>852426</td>\n",
       "      <td>852837</td>\n",
       "    </tr>\n",
       "    <tr>\n",
       "      <th>2</th>\n",
       "      <td>853198</td>\n",
       "      <td>YJL175W</td>\n",
       "      <td>850452</td>\n",
       "      <td>853586</td>\n",
       "    </tr>\n",
       "    <tr>\n",
       "      <th>3</th>\n",
       "      <td>853525</td>\n",
       "      <td>855256</td>\n",
       "      <td>856464</td>\n",
       "      <td>851067</td>\n",
       "    </tr>\n",
       "    <tr>\n",
       "      <th>4</th>\n",
       "      <td>854012</td>\n",
       "      <td>854711</td>\n",
       "      <td>851537</td>\n",
       "      <td>852730</td>\n",
       "    </tr>\n",
       "    <tr>\n",
       "      <th>...</th>\n",
       "      <td>...</td>\n",
       "      <td>...</td>\n",
       "      <td>...</td>\n",
       "      <td>...</td>\n",
       "    </tr>\n",
       "    <tr>\n",
       "      <th>495</th>\n",
       "      <td>853635</td>\n",
       "      <td>851570</td>\n",
       "      <td>852705</td>\n",
       "      <td>852444</td>\n",
       "    </tr>\n",
       "    <tr>\n",
       "      <th>496</th>\n",
       "      <td>852590</td>\n",
       "      <td>856184</td>\n",
       "      <td>851315</td>\n",
       "      <td>851910</td>\n",
       "    </tr>\n",
       "    <tr>\n",
       "      <th>497</th>\n",
       "      <td>855018</td>\n",
       "      <td>850645</td>\n",
       "      <td>853117</td>\n",
       "      <td>855195</td>\n",
       "    </tr>\n",
       "    <tr>\n",
       "      <th>498</th>\n",
       "      <td>851570</td>\n",
       "      <td>850970</td>\n",
       "      <td>851926</td>\n",
       "      <td>856397</td>\n",
       "    </tr>\n",
       "    <tr>\n",
       "      <th>499</th>\n",
       "      <td>853944</td>\n",
       "      <td>850797</td>\n",
       "      <td>854803</td>\n",
       "      <td>YGL152C</td>\n",
       "    </tr>\n",
       "  </tbody>\n",
       "</table>\n",
       "<p>500 rows × 4 columns</p>\n",
       "</div>"
      ],
      "text/plain": [
       "    top_redness top_norm_redness bottom_redness bottom_norm_redness\n",
       "0        855744           854127         853586              852426\n",
       "1        856318           853198         852426              852837\n",
       "2        853198          YJL175W         850452              853586\n",
       "3        853525           855256         856464              851067\n",
       "4        854012           854711         851537              852730\n",
       "..          ...              ...            ...                 ...\n",
       "495      853635           851570         852705              852444\n",
       "496      852590           856184         851315              851910\n",
       "497      855018           850645         853117              855195\n",
       "498      851570           850970         851926              856397\n",
       "499      853944           850797         854803             YGL152C\n",
       "\n",
       "[500 rows x 4 columns]"
      ]
     },
     "execution_count": 11,
     "metadata": {},
     "output_type": "execute_result"
    }
   ],
   "source": [
    "population = []\n",
    "gene_ids[\"entrez\"] = \"\"\n",
    "for (idx, row) in gene_ids.iterrows():\n",
    "    gene = entrezIDs[idx]\n",
    "    if \"entrezgene\" in gene:\n",
    "        entrezID = int(gene[\"entrezgene\"])  # convert to integer (needed for GOATOOLS)\n",
    "        gene_ids[\"entrez\"][idx] = entrezID  # add to datframe for easier access later\n",
    "        population.append(entrezID)  # add to population\n",
    "        data = data.replace(to_replace=row[\"Gene\"], value=entrezID)  # replace in all selected groups\n",
    "        \n",
    "print(len(population))\n",
    "data"
   ]
  },
  {
   "cell_type": "markdown",
   "metadata": {},
   "source": [
    "Note that not all genes are added to the selected genes, due to missing IDs, but the coverage is good enough (above 90% in all cases):"
   ]
  },
  {
   "cell_type": "code",
   "execution_count": 12,
   "metadata": {},
   "outputs": [
    {
     "name": "stdout",
     "output_type": "stream",
     "text": [
      "top_redness: 462\n",
      "top_norm_redness: 458\n",
      "bottom_redness: 461\n",
      "bottom_norm_redness: 458\n"
     ]
    }
   ],
   "source": [
    "for col in data:\n",
    "    mapped_genes = sum(map(lambda x : type(x) is int, list(data[col])))\n",
    "    print(col + \": \" + str(mapped_genes))"
   ]
  },
  {
   "cell_type": "markdown",
   "metadata": {},
   "source": [
    " So let's proceed. We now need a list of all ontologies, and a list of all associations gene/ontology. The package GOATOOLS ([Klopfenstein et al. 2019](https://doi.org/10.1038/s41598-018-28948-z)) provides that, together with improved enrichment tools (corrected p-values, additional tests, etc), so we will from here forward use that."
   ]
  },
  {
   "cell_type": "code",
   "execution_count": 13,
   "metadata": {},
   "outputs": [
    {
     "name": "stdout",
     "output_type": "stream",
     "text": [
      "requests.get(http://purl.obolibrary.org/obo/go/go-basic.obo, stream=True)\n",
      "  WROTE: go-basic.obo\n",
      "\n",
      "go-basic.obo: fmt(1.2) rel(2020-02-21) 47,245 GO Terms\n",
      "FTP RETR ftp.ncbi.nlm.nih.gov gene/DATA gene2go.gz -> gene2go.gz\n",
      "  gunzip gene2go.gz\n",
      "HMS:0:00:03.845529  94,086 annotations,  6,349 genes,  6,156 GOs, 1 taxids READ: gene2go \n"
     ]
    }
   ],
   "source": [
    "# Get ontologies (from http://geneontology.org/ontology/go-basic.obo)\n",
    "from goatools.base import download_go_basic_obo\n",
    "from goatools.obo_parser import GODag\n",
    "obo_fname = download_go_basic_obo()  # Download data\n",
    "obodag = GODag(obo_fname)  # Load data\n",
    "\n",
    "# Get associations genes <-> ontologies (from ftp://ftp.ncbi.nlm.nih.gov/gene/DATA/gene2go.gz)\n",
    "from goatools.base import download_ncbi_associations\n",
    "from goatools.anno.genetogo_reader import Gene2GoReader\n",
    "gene2go_fname = download_ncbi_associations()  # Download data\n",
    "objanno = Gene2GoReader(gene2go_fname, taxids=[559292])  # Read data (only for Saccharomyces cerevisiae S288C)\n",
    "ns2assoc = objanno.get_ns2assc()\n",
    "\n",
    "#Remove downloaded data:\n",
    "os.remove(obo_fname)\n",
    "os.remove(gene2go_fname)"
   ]
  },
  {
   "cell_type": "markdown",
   "metadata": {},
   "source": [
    "Now we create an over-representation object, with all genes, ontologies, associations and settings included in it. This object will be used for every single analysis to perform later on:"
   ]
  },
  {
   "cell_type": "code",
   "execution_count": 14,
   "metadata": {},
   "outputs": [
    {
     "name": "stdout",
     "output_type": "stream",
     "text": [
      "\n",
      "Load BP Gene Ontology Analysis ...\n",
      " 88%  3,887 of  4,436 population items found in association\n",
      "\n",
      "Load CC Gene Ontology Analysis ...\n",
      " 93%  4,141 of  4,436 population items found in association\n",
      "\n",
      "Load MF Gene Ontology Analysis ...\n",
      " 75%  3,338 of  4,436 population items found in association\n"
     ]
    }
   ],
   "source": [
    "# Over-representation object:\n",
    "from goatools.goea.go_enrichment_ns import GOEnrichmentStudyNS\n",
    "goeaobj = GOEnrichmentStudyNS(\n",
    "    population,  # Population (all mapped yeast genes in Entrez format)\n",
    "    ns2assoc,  # geneid/GO associations\n",
    "    obodag,  # Ontologies\n",
    "    propagate_counts = False,  # ???\n",
    "    alpha = 0.05,  # default significance cut-off\n",
    "    methods = ['fdr_bh'])  # default multipletest correction method"
   ]
  },
  {
   "cell_type": "markdown",
   "metadata": {},
   "source": [
    "Using this object, we can repeat the analysis from before for all 4 groups:"
   ]
  },
  {
   "cell_type": "code",
   "execution_count": 15,
   "metadata": {},
   "outputs": [
    {
     "name": "stdout",
     "output_type": "stream",
     "text": [
      "\n",
      "Run BP Gene Ontology Analysis: current study set of 500 IDs ...\n",
      " 88%    405 of    461 study items found in association\n",
      " 92%    461 of    500 study items found in population(4436)\n",
      "Calculating 2,845 uncorrected p-values using fisher\n",
      "   2,845 GO terms are associated with  3,845 of  4,436 population items\n",
      "     902 GO terms are associated with    405 of    499 study items\n",
      "  METHOD fdr_bh:\n",
      "       0 GO terms found significant (< 0.05=alpha) (  0 enriched +   0 purified): statsmodels fdr_bh\n",
      "       0 study items associated with significant GO IDs (enriched)\n",
      "       0 study items associated with significant GO IDs (purified)\n",
      "\n",
      "Run CC Gene Ontology Analysis: current study set of 500 IDs ...\n",
      " 91%    418 of    461 study items found in association\n",
      " 92%    461 of    500 study items found in population(4436)\n",
      "Calculating 712 uncorrected p-values using fisher\n",
      "     712 GO terms are associated with  4,099 of  4,436 population items\n",
      "     238 GO terms are associated with    418 of    499 study items\n",
      "  METHOD fdr_bh:\n",
      "       0 GO terms found significant (< 0.05=alpha) (  0 enriched +   0 purified): statsmodels fdr_bh\n",
      "       0 study items associated with significant GO IDs (enriched)\n",
      "       0 study items associated with significant GO IDs (purified)\n",
      "\n",
      "Run MF Gene Ontology Analysis: current study set of 500 IDs ...\n",
      " 73%    338 of    461 study items found in association\n",
      " 92%    461 of    500 study items found in population(4436)\n",
      "Calculating 1,793 uncorrected p-values using fisher\n",
      "   1,793 GO terms are associated with  3,299 of  4,436 population items\n",
      "     516 GO terms are associated with    338 of    499 study items\n",
      "  METHOD fdr_bh:\n",
      "       0 GO terms found significant (< 0.05=alpha) (  0 enriched +   0 purified): statsmodels fdr_bh\n",
      "       0 study items associated with significant GO IDs (enriched)\n",
      "       0 study items associated with significant GO IDs (purified)\n",
      "     58 items WROTE: C:\\Users\\bejsab\\Documents\\repos\\phenobooth-analysis\\data\\final\\p_values_top_redness.tsv\n"
     ]
    }
   ],
   "source": [
    "def goea(data, group_name, **kwargs):\n",
    "    goea_results_all = goeaobj.run_study(list(data[group_name]), **kwargs)\n",
    "    goea_results_sig = [r for r in goea_results_all if r.p_uncorrected < 0.05]\n",
    "    goea_results_sig.sort(key=lambda x: (x.NS, x.GO))\n",
    "    goeaobj.wr_tsv(join(FINAL, \"p_values_\" + group_name + \".tsv\"), goea_results_sig)\n",
    "\n",
    "goea(data, \"top_redness\")"
   ]
  },
  {
   "cell_type": "code",
   "execution_count": 16,
   "metadata": {},
   "outputs": [
    {
     "name": "stdout",
     "output_type": "stream",
     "text": [
      "\n",
      "Run BP Gene Ontology Analysis: current study set of 500 IDs ...\n",
      " 84%    387 of    458 study items found in association\n",
      " 92%    458 of    500 study items found in population(4436)\n",
      "Calculating 2,845 uncorrected p-values using fisher\n",
      "   2,845 GO terms are associated with  3,845 of  4,436 population items\n",
      "     876 GO terms are associated with    387 of    500 study items\n",
      "  METHOD fdr_bh:\n",
      "       0 GO terms found significant (< 0.05=alpha) (  0 enriched +   0 purified): statsmodels fdr_bh\n",
      "       0 study items associated with significant GO IDs (enriched)\n",
      "       0 study items associated with significant GO IDs (purified)\n",
      "\n",
      "Run CC Gene Ontology Analysis: current study set of 500 IDs ...\n",
      " 92%    423 of    458 study items found in association\n",
      " 92%    458 of    500 study items found in population(4436)\n",
      "Calculating 712 uncorrected p-values using fisher\n",
      "     712 GO terms are associated with  4,099 of  4,436 population items\n",
      "     224 GO terms are associated with    423 of    500 study items\n",
      "  METHOD fdr_bh:\n",
      "       0 GO terms found significant (< 0.05=alpha) (  0 enriched +   0 purified): statsmodels fdr_bh\n",
      "       0 study items associated with significant GO IDs (enriched)\n",
      "       0 study items associated with significant GO IDs (purified)\n",
      "\n",
      "Run MF Gene Ontology Analysis: current study set of 500 IDs ...\n",
      " 73%    333 of    458 study items found in association\n",
      " 92%    458 of    500 study items found in population(4436)\n",
      "Calculating 1,793 uncorrected p-values using fisher\n",
      "   1,793 GO terms are associated with  3,299 of  4,436 population items\n",
      "     466 GO terms are associated with    333 of    500 study items\n",
      "  METHOD fdr_bh:\n",
      "       0 GO terms found significant (< 0.05=alpha) (  0 enriched +   0 purified): statsmodels fdr_bh\n",
      "       0 study items associated with significant GO IDs (enriched)\n",
      "       0 study items associated with significant GO IDs (purified)\n",
      "     88 items WROTE: C:\\Users\\bejsab\\Documents\\repos\\phenobooth-analysis\\data\\final\\p_values_top_norm_redness.tsv\n"
     ]
    }
   ],
   "source": [
    "goea(data, \"top_norm_redness\")"
   ]
  },
  {
   "cell_type": "code",
   "execution_count": 17,
   "metadata": {},
   "outputs": [
    {
     "name": "stdout",
     "output_type": "stream",
     "text": [
      "\n",
      "Run BP Gene Ontology Analysis: current study set of 500 IDs ...\n",
      " 88%    406 of    461 study items found in association\n",
      " 92%    461 of    500 study items found in population(4436)\n",
      "Calculating 2,845 uncorrected p-values using fisher\n",
      "   2,845 GO terms are associated with  3,845 of  4,436 population items\n",
      "     872 GO terms are associated with    406 of    500 study items\n",
      "  METHOD fdr_bh:\n",
      "       0 GO terms found significant (< 0.05=alpha) (  0 enriched +   0 purified): statsmodels fdr_bh\n",
      "       0 study items associated with significant GO IDs (enriched)\n",
      "       0 study items associated with significant GO IDs (purified)\n",
      "\n",
      "Run CC Gene Ontology Analysis: current study set of 500 IDs ...\n",
      " 94%    435 of    461 study items found in association\n",
      " 92%    461 of    500 study items found in population(4436)\n",
      "Calculating 712 uncorrected p-values using fisher\n",
      "     712 GO terms are associated with  4,099 of  4,436 population items\n",
      "     281 GO terms are associated with    435 of    500 study items\n",
      "  METHOD fdr_bh:\n",
      "       0 GO terms found significant (< 0.05=alpha) (  0 enriched +   0 purified): statsmodels fdr_bh\n",
      "       0 study items associated with significant GO IDs (enriched)\n",
      "       0 study items associated with significant GO IDs (purified)\n",
      "\n",
      "Run MF Gene Ontology Analysis: current study set of 500 IDs ...\n",
      " 77%    356 of    461 study items found in association\n",
      " 92%    461 of    500 study items found in population(4436)\n",
      "Calculating 1,793 uncorrected p-values using fisher\n",
      "   1,793 GO terms are associated with  3,299 of  4,436 population items\n",
      "     479 GO terms are associated with    356 of    500 study items\n",
      "  METHOD fdr_bh:\n",
      "       0 GO terms found significant (< 0.05=alpha) (  0 enriched +   0 purified): statsmodels fdr_bh\n",
      "       0 study items associated with significant GO IDs (enriched)\n",
      "       0 study items associated with significant GO IDs (purified)\n",
      "     84 items WROTE: C:\\Users\\bejsab\\Documents\\repos\\phenobooth-analysis\\data\\final\\p_values_bottom_redness.tsv\n"
     ]
    }
   ],
   "source": [
    "goea(data, \"bottom_redness\")"
   ]
  },
  {
   "cell_type": "code",
   "execution_count": 18,
   "metadata": {},
   "outputs": [
    {
     "name": "stdout",
     "output_type": "stream",
     "text": [
      "\n",
      "Run BP Gene Ontology Analysis: current study set of 500 IDs ...\n",
      " 88%    404 of    458 study items found in association\n",
      " 92%    458 of    500 study items found in population(4436)\n",
      "Calculating 2,845 uncorrected p-values using fisher\n",
      "   2,845 GO terms are associated with  3,845 of  4,436 population items\n",
      "     861 GO terms are associated with    404 of    499 study items\n",
      "  METHOD fdr_bh:\n",
      "       0 GO terms found significant (< 0.05=alpha) (  0 enriched +   0 purified): statsmodels fdr_bh\n",
      "       0 study items associated with significant GO IDs (enriched)\n",
      "       0 study items associated with significant GO IDs (purified)\n",
      "\n",
      "Run CC Gene Ontology Analysis: current study set of 500 IDs ...\n",
      " 93%    426 of    458 study items found in association\n",
      " 92%    458 of    500 study items found in population(4436)\n",
      "Calculating 712 uncorrected p-values using fisher\n",
      "     712 GO terms are associated with  4,099 of  4,436 population items\n",
      "     282 GO terms are associated with    426 of    499 study items\n",
      "  METHOD fdr_bh:\n",
      "       0 GO terms found significant (< 0.05=alpha) (  0 enriched +   0 purified): statsmodels fdr_bh\n",
      "       0 study items associated with significant GO IDs (enriched)\n",
      "       0 study items associated with significant GO IDs (purified)\n",
      "\n",
      "Run MF Gene Ontology Analysis: current study set of 500 IDs ...\n",
      " 76%    349 of    458 study items found in association\n",
      " 92%    458 of    500 study items found in population(4436)\n",
      "Calculating 1,793 uncorrected p-values using fisher\n",
      "   1,793 GO terms are associated with  3,299 of  4,436 population items\n",
      "     489 GO terms are associated with    349 of    499 study items\n",
      "  METHOD fdr_bh:\n",
      "       0 GO terms found significant (< 0.05=alpha) (  0 enriched +   0 purified): statsmodels fdr_bh\n",
      "       0 study items associated with significant GO IDs (enriched)\n",
      "       0 study items associated with significant GO IDs (purified)\n",
      "     54 items WROTE: C:\\Users\\bejsab\\Documents\\repos\\phenobooth-analysis\\data\\final\\p_values_bottom_norm_redness.tsv\n"
     ]
    }
   ],
   "source": [
    "goea(data, \"bottom_norm_redness\")"
   ]
  },
  {
   "cell_type": "markdown",
   "metadata": {},
   "source": [
    "As observed, no ontology shows to be significant when looking at the corrected p-values. Some ontologies do show significance if we consider only the uncorrected p-values, but then false positives are to be expected. We should probably play with the number of genes inside of each group, as maybe 500 was too many...\n",
    "\n",
    "## 5. Changing the group size\n",
    "\n",
    "Let's start by lowering the group to 100 genes:"
   ]
  },
  {
   "cell_type": "code",
   "execution_count": 19,
   "metadata": {},
   "outputs": [
    {
     "name": "stdout",
     "output_type": "stream",
     "text": [
      "\n",
      "Run BP Gene Ontology Analysis: current study set of 100 IDs ...\n",
      " 90%     85 of     94 study items found in association\n",
      " 94%     94 of    100 study items found in population(4436)\n",
      "Calculating 2,845 uncorrected p-values using fisher\n",
      "   2,845 GO terms are associated with  3,845 of  4,436 population items\n",
      "     289 GO terms are associated with     85 of    100 study items\n",
      "  METHOD fdr_bh:\n",
      "       0 GO terms found significant (< 0.05=alpha) (  0 enriched +   0 purified): statsmodels fdr_bh\n",
      "       0 study items associated with significant GO IDs (enriched)\n",
      "       0 study items associated with significant GO IDs (purified)\n",
      "\n",
      "Run CC Gene Ontology Analysis: current study set of 100 IDs ...\n",
      " 91%     86 of     94 study items found in association\n",
      " 94%     94 of    100 study items found in population(4436)\n",
      "Calculating 712 uncorrected p-values using fisher\n",
      "     712 GO terms are associated with  4,099 of  4,436 population items\n",
      "      90 GO terms are associated with     86 of    100 study items\n",
      "  METHOD fdr_bh:\n",
      "       0 GO terms found significant (< 0.05=alpha) (  0 enriched +   0 purified): statsmodels fdr_bh\n",
      "       0 study items associated with significant GO IDs (enriched)\n",
      "       0 study items associated with significant GO IDs (purified)\n",
      "\n",
      "Run MF Gene Ontology Analysis: current study set of 100 IDs ...\n",
      " 80%     75 of     94 study items found in association\n",
      " 94%     94 of    100 study items found in population(4436)\n",
      "Calculating 1,793 uncorrected p-values using fisher\n",
      "   1,793 GO terms are associated with  3,299 of  4,436 population items\n",
      "     182 GO terms are associated with     75 of    100 study items\n",
      "  METHOD fdr_bh:\n",
      "       0 GO terms found significant (< 0.05=alpha) (  0 enriched +   0 purified): statsmodels fdr_bh\n",
      "       0 study items associated with significant GO IDs (enriched)\n",
      "       0 study items associated with significant GO IDs (purified)\n",
      "    122 items WROTE: C:\\Users\\bejsab\\Documents\\repos\\phenobooth-analysis\\data\\final\\p_values_top_redness.tsv\n"
     ]
    }
   ],
   "source": [
    "goea(data.head(100), \"top_redness\")"
   ]
  },
  {
   "cell_type": "code",
   "execution_count": 20,
   "metadata": {},
   "outputs": [
    {
     "name": "stdout",
     "output_type": "stream",
     "text": [
      "\n",
      "Run BP Gene Ontology Analysis: current study set of 100 IDs ...\n",
      " 92%     83 of     90 study items found in association\n",
      " 90%     90 of    100 study items found in population(4436)\n",
      "Calculating 2,845 uncorrected p-values using fisher\n",
      "   2,845 GO terms are associated with  3,845 of  4,436 population items\n",
      "     298 GO terms are associated with     83 of    100 study items\n",
      "  METHOD fdr_bh:\n",
      "       0 GO terms found significant (< 0.05=alpha) (  0 enriched +   0 purified): statsmodels fdr_bh\n",
      "       0 study items associated with significant GO IDs (enriched)\n",
      "       0 study items associated with significant GO IDs (purified)\n",
      "\n",
      "Run CC Gene Ontology Analysis: current study set of 100 IDs ...\n",
      " 92%     83 of     90 study items found in association\n",
      " 90%     90 of    100 study items found in population(4436)\n",
      "Calculating 712 uncorrected p-values using fisher\n",
      "     712 GO terms are associated with  4,099 of  4,436 population items\n",
      "      93 GO terms are associated with     83 of    100 study items\n",
      "  METHOD fdr_bh:\n",
      "       0 GO terms found significant (< 0.05=alpha) (  0 enriched +   0 purified): statsmodels fdr_bh\n",
      "       0 study items associated with significant GO IDs (enriched)\n",
      "       0 study items associated with significant GO IDs (purified)\n",
      "\n",
      "Run MF Gene Ontology Analysis: current study set of 100 IDs ...\n",
      " 80%     72 of     90 study items found in association\n",
      " 90%     90 of    100 study items found in population(4436)\n",
      "Calculating 1,793 uncorrected p-values using fisher\n",
      "   1,793 GO terms are associated with  3,299 of  4,436 population items\n",
      "     144 GO terms are associated with     72 of    100 study items\n",
      "  METHOD fdr_bh:\n",
      "       0 GO terms found significant (< 0.05=alpha) (  0 enriched +   0 purified): statsmodels fdr_bh\n",
      "       0 study items associated with significant GO IDs (enriched)\n",
      "       0 study items associated with significant GO IDs (purified)\n",
      "    135 items WROTE: C:\\Users\\bejsab\\Documents\\repos\\phenobooth-analysis\\data\\final\\p_values_top_norm_redness.tsv\n"
     ]
    }
   ],
   "source": [
    "goea(data.head(100), \"top_norm_redness\")"
   ]
  },
  {
   "cell_type": "code",
   "execution_count": 21,
   "metadata": {},
   "outputs": [
    {
     "name": "stdout",
     "output_type": "stream",
     "text": [
      "\n",
      "Run BP Gene Ontology Analysis: current study set of 100 IDs ...\n",
      " 85%     77 of     91 study items found in association\n",
      " 91%     91 of    100 study items found in population(4436)\n",
      "Calculating 2,845 uncorrected p-values using fisher\n",
      "   2,845 GO terms are associated with  3,845 of  4,436 population items\n",
      "     258 GO terms are associated with     77 of    100 study items\n",
      "  METHOD fdr_bh:\n",
      "       0 GO terms found significant (< 0.05=alpha) (  0 enriched +   0 purified): statsmodels fdr_bh\n",
      "       0 study items associated with significant GO IDs (enriched)\n",
      "       0 study items associated with significant GO IDs (purified)\n",
      "\n",
      "Run CC Gene Ontology Analysis: current study set of 100 IDs ...\n",
      " 96%     87 of     91 study items found in association\n",
      " 91%     91 of    100 study items found in population(4436)\n",
      "Calculating 712 uncorrected p-values using fisher\n",
      "     712 GO terms are associated with  4,099 of  4,436 population items\n",
      "     107 GO terms are associated with     87 of    100 study items\n",
      "  METHOD fdr_bh:\n",
      "       0 GO terms found significant (< 0.05=alpha) (  0 enriched +   0 purified): statsmodels fdr_bh\n",
      "       0 study items associated with significant GO IDs (enriched)\n",
      "       0 study items associated with significant GO IDs (purified)\n",
      "\n",
      "Run MF Gene Ontology Analysis: current study set of 100 IDs ...\n",
      " 71%     65 of     91 study items found in association\n",
      " 91%     91 of    100 study items found in population(4436)\n",
      "Calculating 1,793 uncorrected p-values using fisher\n",
      "   1,793 GO terms are associated with  3,299 of  4,436 population items\n",
      "     125 GO terms are associated with     65 of    100 study items\n",
      "  METHOD fdr_bh:\n",
      "       0 GO terms found significant (< 0.05=alpha) (  0 enriched +   0 purified): statsmodels fdr_bh\n",
      "       0 study items associated with significant GO IDs (enriched)\n",
      "       0 study items associated with significant GO IDs (purified)\n",
      "    104 items WROTE: C:\\Users\\bejsab\\Documents\\repos\\phenobooth-analysis\\data\\final\\p_values_bottom_redness.tsv\n"
     ]
    }
   ],
   "source": [
    "goea(data.head(100), \"bottom_redness\")"
   ]
  },
  {
   "cell_type": "code",
   "execution_count": 22,
   "metadata": {},
   "outputs": [
    {
     "name": "stdout",
     "output_type": "stream",
     "text": [
      "\n",
      "Run BP Gene Ontology Analysis: current study set of 100 IDs ...\n",
      " 84%     77 of     92 study items found in association\n",
      " 92%     92 of    100 study items found in population(4436)\n",
      "Calculating 2,845 uncorrected p-values using fisher\n",
      "   2,845 GO terms are associated with  3,845 of  4,436 population items\n",
      "     236 GO terms are associated with     77 of    100 study items\n",
      "  METHOD fdr_bh:\n",
      "       0 GO terms found significant (< 0.05=alpha) (  0 enriched +   0 purified): statsmodels fdr_bh\n",
      "       0 study items associated with significant GO IDs (enriched)\n",
      "       0 study items associated with significant GO IDs (purified)\n",
      "\n",
      "Run CC Gene Ontology Analysis: current study set of 100 IDs ...\n",
      " 93%     86 of     92 study items found in association\n",
      " 92%     92 of    100 study items found in population(4436)\n",
      "Calculating 712 uncorrected p-values using fisher\n",
      "     712 GO terms are associated with  4,099 of  4,436 population items\n",
      "     111 GO terms are associated with     86 of    100 study items\n",
      "  METHOD fdr_bh:\n",
      "       0 GO terms found significant (< 0.05=alpha) (  0 enriched +   0 purified): statsmodels fdr_bh\n",
      "       0 study items associated with significant GO IDs (enriched)\n",
      "       0 study items associated with significant GO IDs (purified)\n",
      "\n",
      "Run MF Gene Ontology Analysis: current study set of 100 IDs ...\n",
      " 68%     63 of     92 study items found in association\n",
      " 92%     92 of    100 study items found in population(4436)\n",
      "Calculating 1,793 uncorrected p-values using fisher\n",
      "   1,793 GO terms are associated with  3,299 of  4,436 population items\n",
      "     128 GO terms are associated with     63 of    100 study items\n",
      "  METHOD fdr_bh:\n",
      "       0 GO terms found significant (< 0.05=alpha) (  0 enriched +   0 purified): statsmodels fdr_bh\n",
      "       0 study items associated with significant GO IDs (enriched)\n",
      "       0 study items associated with significant GO IDs (purified)\n",
      "     90 items WROTE: C:\\Users\\bejsab\\Documents\\repos\\phenobooth-analysis\\data\\final\\p_values_bottom_norm_redness.tsv\n"
     ]
    }
   ],
   "source": [
    "goea(data.head(100), \"bottom_norm_redness\")"
   ]
  },
  {
   "cell_type": "markdown",
   "metadata": {},
   "source": [
    "Still nothing significant, although the number of uncorrected p-values below 0.05 increases for all conditions. We will vary the group size from 10 to 500 in increments of 10 to find something significant (also removing the output to keep the notebook reasonably short):"
   ]
  },
  {
   "cell_type": "code",
   "execution_count": 23,
   "metadata": {},
   "outputs": [
    {
     "data": {
      "text/plain": [
       "[[10, 0, 0, 0, 0],\n",
       " [20, 0, 0, 0, 0],\n",
       " [30, 0, 0, 0, 0],\n",
       " [40, 0, 0, 0, 0],\n",
       " [50, 0, 0, 0, 0],\n",
       " [60, 0, 0, 0, 0],\n",
       " [70, 0, 0, 0, 0],\n",
       " [80, 0, 0, 0, 0],\n",
       " [90, 0, 0, 0, 0],\n",
       " [100, 0, 0, 0, 0],\n",
       " [110, 0, 0, 0, 0],\n",
       " [120, 0, 0, 0, 0],\n",
       " [130, 0, 0, 0, 0],\n",
       " [140, 0, 0, 0, 0],\n",
       " [150, 2, 0, 0, 0],\n",
       " [160, 1, 0, 0, 0],\n",
       " [170, 1, 0, 0, 0],\n",
       " [180, 1, 0, 0, 0],\n",
       " [190, 1, 0, 0, 0],\n",
       " [200, 1, 0, 0, 0],\n",
       " [210, 0, 0, 0, 0],\n",
       " [220, 0, 0, 0, 0],\n",
       " [230, 0, 0, 0, 0],\n",
       " [240, 0, 0, 0, 0],\n",
       " [250, 0, 0, 0, 0],\n",
       " [260, 0, 0, 0, 0],\n",
       " [270, 0, 0, 0, 0],\n",
       " [280, 0, 0, 0, 0],\n",
       " [290, 0, 0, 0, 0],\n",
       " [300, 0, 0, 0, 0],\n",
       " [310, 0, 0, 0, 0],\n",
       " [320, 0, 0, 0, 0],\n",
       " [330, 0, 0, 0, 0],\n",
       " [340, 0, 0, 0, 0],\n",
       " [350, 0, 0, 0, 0],\n",
       " [360, 0, 0, 0, 0],\n",
       " [370, 0, 0, 0, 0],\n",
       " [380, 0, 0, 0, 0],\n",
       " [390, 0, 0, 0, 0],\n",
       " [400, 0, 0, 0, 0],\n",
       " [410, 0, 0, 0, 0],\n",
       " [420, 0, 0, 0, 0],\n",
       " [430, 0, 0, 0, 0],\n",
       " [440, 0, 0, 0, 0],\n",
       " [450, 0, 0, 0, 0],\n",
       " [460, 0, 0, 0, 0],\n",
       " [470, 0, 0, 0, 0],\n",
       " [480, 0, 0, 0, 0],\n",
       " [490, 0, 0, 0, 0],\n",
       " [500, 0, 0, 0, 0]]"
      ]
     },
     "execution_count": 23,
     "metadata": {},
     "output_type": "execute_result"
    }
   ],
   "source": [
    "# Function that returns the number of significant p-values according to the fdr_bh test (without printing anything):\n",
    "def goea_return_sig(data, group_name, test):\n",
    "    goea_results_all = goeaobj.run_study(list(data[group_name]), log=None, quiet=True)\n",
    "    if test == \"fdr_bh\":\n",
    "        goea_results_sig = [r for r in goea_results_all if r.p_fdr_bh < 0.05]\n",
    "    elif test == \"uncorrected\":\n",
    "        goea_results_sig = [r for r in goea_results_all if r.p_uncorrected < 0.05]\n",
    "    return goea_results_sig\n",
    "\n",
    "# Call the function in a loop that goes through all group sizes (in multiples of 10) and records the number of significant GO terms:\n",
    "nsig = list()\n",
    "for n in range(10, 501, 10):\n",
    "    nt = len(goea_return_sig(data.head(n), \"top_redness\", \"fdr_bh\"))\n",
    "    ntn = len(goea_return_sig(data.head(n), \"top_norm_redness\", \"fdr_bh\"))\n",
    "    nb = len(goea_return_sig(data.head(n), \"bottom_redness\", \"fdr_bh\"))\n",
    "    nbn = len(goea_return_sig(data.head(n), \"bottom_norm_redness\", \"fdr_bh\"))\n",
    "    nsig.append([n, nt, ntn, nb, nbn])\n",
    "\n",
    "nsig"
   ]
  },
  {
   "cell_type": "markdown",
   "metadata": {},
   "source": [
    "So there's actually a few group sizes in which the top redness is enriched. Let's save those results:"
   ]
  },
  {
   "cell_type": "code",
   "execution_count": 24,
   "metadata": {},
   "outputs": [
    {
     "name": "stdout",
     "output_type": "stream",
     "text": [
      "    118 items WROTE: C:\\Users\\bejsab\\Documents\\repos\\phenobooth-analysis\\data\\final\\p_values_top_redness.tsv\n",
      "    109 items WROTE: C:\\Users\\bejsab\\Documents\\repos\\phenobooth-analysis\\data\\final\\p_values_top_norm_redness.tsv\n",
      "     89 items WROTE: C:\\Users\\bejsab\\Documents\\repos\\phenobooth-analysis\\data\\final\\p_values_bottom_redness.tsv\n",
      "     80 items WROTE: C:\\Users\\bejsab\\Documents\\repos\\phenobooth-analysis\\data\\final\\p_values_bottom_norm_redness.tsv\n"
     ]
    }
   ],
   "source": [
    "goea(data.head(150), \"top_redness\", log=None, quiet=True)\n",
    "goea(data.head(150), \"top_norm_redness\", log=None, quiet=True)\n",
    "goea(data.head(150), \"bottom_redness\", log=None, quiet=True)\n",
    "goea(data.head(150), \"bottom_norm_redness\", log=None, quiet=True)"
   ]
  },
  {
   "cell_type": "markdown",
   "metadata": {},
   "source": [
    "And check the genes associated to those genes:"
   ]
  },
  {
   "cell_type": "code",
   "execution_count": 25,
   "metadata": {},
   "outputs": [
    {
     "name": "stdout",
     "output_type": "stream",
     "text": [
      "GO:0018027\n",
      "SEE1\n",
      "RKM1\n",
      "YBR271W\n",
      "NNT1\n",
      "\n",
      "GO:0016279\n",
      "NNT1\n",
      "RKM1\n",
      "SEE1\n",
      "YNL024C\n",
      "YBR271W\n",
      "\n"
     ]
    }
   ],
   "source": [
    "sig_results = goea_return_sig(data.head(150), \"top_redness\", \"fdr_bh\")\n",
    "\n",
    "for GOterm in sig_results:\n",
    "    print(GOterm.GO)\n",
    "    for item in GOterm.study_items:        \n",
    "        # Find back gene name:\n",
    "        row = gene_ids.loc[gene_ids['entrez'] == item]\n",
    "        geneName = row[\"Gene\"].values[0]\n",
    "        print(geneName)\n",
    "    print(\"\")"
   ]
  },
  {
   "cell_type": "markdown",
   "metadata": {},
   "source": [
    "Let's see if in these 150 top/bottom candidates there are any metabolic genes:"
   ]
  },
  {
   "cell_type": "code",
   "execution_count": 26,
   "metadata": {},
   "outputs": [
    {
     "name": "stdout",
     "output_type": "stream",
     "text": [
      "top_redness:\n",
      "45: UBA4\n",
      "70: EPT1\n",
      "85: EXG2\n",
      "95: SIM1\n",
      "\n",
      "bottom_redness:\n",
      "93: HFA1\n",
      "\n"
     ]
    }
   ],
   "source": [
    "def find_metabolic(data, group_name):\n",
    "    print(group_name + \":\")\n",
    "    for gene in list(data[group_name]):\n",
    "        if gene in ns2assoc[\"BP\"]:\n",
    "            if \"GO:0008152\" in ns2assoc[\"BP\"][gene]:\n",
    "                row = gene_ids.loc[gene_ids['entrez'] == gene]\n",
    "                geneName = row[\"Gene\"].values[0]\n",
    "                position = list(data[group_name]).index(gene)\n",
    "                print(str(position+1) + \": \" + geneName)\n",
    "    print(\"\")\n",
    "\n",
    "find_metabolic(data.head(150), \"top_redness\")\n",
    "find_metabolic(data.head(150), \"bottom_redness\")"
   ]
  },
  {
   "cell_type": "markdown",
   "metadata": {},
   "source": [
    "We can also check how the number of uncorrected p-values under 0.05 change as the group size changes:"
   ]
  },
  {
   "cell_type": "code",
   "execution_count": 27,
   "metadata": {},
   "outputs": [
    {
     "data": {
      "text/plain": [
       "[[10, 46, 44, 35, 41],\n",
       " [20, 65, 72, 67, 69],\n",
       " [30, 89, 92, 89, 82],\n",
       " [40, 114, 118, 79, 97],\n",
       " [50, 108, 109, 80, 106],\n",
       " [60, 119, 123, 87, 96],\n",
       " [70, 129, 121, 83, 89],\n",
       " [80, 143, 141, 98, 100],\n",
       " [90, 120, 123, 88, 81],\n",
       " [100, 122, 135, 104, 90],\n",
       " [110, 138, 148, 118, 104],\n",
       " [120, 100, 163, 125, 120],\n",
       " [130, 110, 107, 74, 81],\n",
       " [140, 112, 107, 77, 81],\n",
       " [150, 118, 109, 89, 80],\n",
       " [160, 116, 111, 92, 88],\n",
       " [170, 128, 124, 98, 91],\n",
       " [180, 130, 133, 115, 102],\n",
       " [190, 133, 145, 114, 103],\n",
       " [200, 132, 153, 113, 107],\n",
       " [210, 140, 157, 115, 111],\n",
       " [220, 148, 166, 114, 116],\n",
       " [230, 150, 170, 129, 127],\n",
       " [240, 159, 174, 142, 133],\n",
       " [250, 61, 66, 40, 34],\n",
       " [260, 49, 70, 49, 35],\n",
       " [270, 51, 63, 50, 31],\n",
       " [280, 53, 58, 58, 35],\n",
       " [290, 54, 64, 65, 37],\n",
       " [300, 60, 63, 69, 42],\n",
       " [310, 61, 62, 62, 37],\n",
       " [320, 57, 62, 65, 36],\n",
       " [330, 60, 64, 70, 35],\n",
       " [340, 62, 66, 77, 41],\n",
       " [350, 67, 70, 83, 42],\n",
       " [360, 70, 71, 76, 48],\n",
       " [370, 70, 79, 76, 52],\n",
       " [380, 53, 68, 68, 50],\n",
       " [390, 48, 69, 70, 56],\n",
       " [400, 49, 70, 76, 59],\n",
       " [410, 53, 70, 78, 61],\n",
       " [420, 56, 71, 79, 53],\n",
       " [430, 59, 76, 82, 50],\n",
       " [440, 64, 94, 82, 49],\n",
       " [450, 68, 92, 83, 50],\n",
       " [460, 72, 97, 88, 52],\n",
       " [470, 73, 102, 88, 64],\n",
       " [480, 55, 85, 78, 48],\n",
       " [490, 54, 85, 84, 54],\n",
       " [500, 58, 88, 84, 54]]"
      ]
     },
     "execution_count": 27,
     "metadata": {},
     "output_type": "execute_result"
    }
   ],
   "source": [
    "nsig = list()\n",
    "for n in range(10, 501, 10):\n",
    "    nt = len(goea_return_sig(data.head(n), \"top_redness\", \"uncorrected\"))\n",
    "    ntn = len(goea_return_sig(data.head(n), \"top_norm_redness\", \"uncorrected\"))\n",
    "    nb = len(goea_return_sig(data.head(n), \"bottom_redness\", \"uncorrected\"))\n",
    "    nbn = len(goea_return_sig(data.head(n), \"bottom_norm_redness\", \"uncorrected\"))\n",
    "    nsig.append([n, nt, ntn, nb, nbn])\n",
    "\n",
    "nsig"
   ]
  },
  {
   "cell_type": "markdown",
   "metadata": {},
   "source": [
    "Let's see it in a plot:"
   ]
  },
  {
   "cell_type": "code",
   "execution_count": 28,
   "metadata": {},
   "outputs": [
    {
     "data": {
      "image/png": "[encoded data removed]",
      "text/plain": [
       "<Figure size 432x288 with 1 Axes>"
      ]
     },
     "metadata": {},
     "output_type": "display_data"
    }
   ],
   "source": [
    "# Import plotting stuff:\n",
    "%matplotlib inline\n",
    "import matplotlib.pyplot as plt\n",
    "plt.style.use('seaborn-whitegrid')\n",
    "\n",
    "# Axis:\n",
    "fig = plt.figure()\n",
    "ax = plt.axes()\n",
    "\n",
    "# Data:\n",
    "line1 = ax.plot([row[0] for row in nsig], [row[1] for row in nsig], label='top redness')\n",
    "line2 = ax.plot([row[0] for row in nsig], [row[2] for row in nsig], label='top norm redness')\n",
    "line3 = ax.plot([row[0] for row in nsig], [row[3] for row in nsig], label='bottom redness')\n",
    "line4 = ax.plot([row[0] for row in nsig], [row[4] for row in nsig], label='bottom norm redness')\n",
    "ax.legend();"
   ]
  },
  {
   "cell_type": "code",
   "execution_count": null,
   "metadata": {},
   "outputs": [],
   "source": []
  }
 ],
 "metadata": {
  "kernelspec": {
   "display_name": "Python 3",
   "language": "python",
   "name": "python3"
  },
  "language_info": {
   "codemirror_mode": {
    "name": "ipython",
    "version": 3
   },
   "file_extension": ".py",
   "mimetype": "text/x-python",
   "name": "python",
   "nbconvert_exporter": "python",
   "pygments_lexer": "ipython3",
   "version": "3.7.5"
  }
 },
 "nbformat": 4,
 "nbformat_minor": 2
}
